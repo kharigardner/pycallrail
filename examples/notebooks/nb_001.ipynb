{
 "cells": [
  {
   "attachments": {},
   "cell_type": "markdown",
   "metadata": {},
   "source": [
    "# CallRail Example Notebook\n",
    "\n",
    "This notebook provides examples on how to use the pycallrail package. The package serves as a pythonic wrapper for the CallRail API."
   ]
  },
  {
   "cell_type": "code",
   "execution_count": 1,
   "metadata": {},
   "outputs": [],
   "source": [
    "from pycallrail.callrail import CallRail\n",
    "from pycallrail.config import api_key"
   ]
  },
  {
   "cell_type": "code",
   "execution_count": 2,
   "metadata": {},
   "outputs": [],
   "source": [
    "crl = CallRail(api_key)"
   ]
  },
  {
   "attachments": {},
   "cell_type": "markdown",
   "metadata": {},
   "source": [
    "## Setup\n",
    "\n",
    "The main functionality of the API comes from the Account class, which serves as the parent class for many other objects in the API. The account class can be accessed by calling 'list_accounts' from the base API handler."
   ]
  },
  {
   "cell_type": "code",
   "execution_count": 3,
   "metadata": {},
   "outputs": [
    {
     "name": "stdout",
     "output_type": "stream",
     "text": [
      "https://api.callrail.com/v3/a\n",
      "Got a single account: Fresh Coat Painters\n"
     ]
    }
   ],
   "source": [
    "accounts = crl.list_accounts() \n",
    "\n",
    "# check if we got a list or a single account\n",
    "\n",
    "if isinstance(accounts, list):\n",
    "    print(f\"Got {len(accounts)} accounts\")\n",
    "\n",
    "    for account in accounts:\n",
    "        print(f\"Account name: {account.name}\")\n",
    "\n",
    "\n",
    "else:\n",
    "    print(f\"Got a single account: {accounts.name}\")"
   ]
  },
  {
   "attachments": {},
   "cell_type": "markdown",
   "metadata": {},
   "source": [
    "## Calls"
   ]
  },
  {
   "cell_type": "code",
   "execution_count": 7,
   "metadata": {},
   "outputs": [
    {
     "name": "stdout",
     "output_type": "stream",
     "text": [
      "https://api.callrail.com/v3/a\n"
     ]
    }
   ],
   "source": [
    "calls = accounts.list_calls()"
   ]
  },
  {
   "cell_type": "code",
   "execution_count": 9,
   "metadata": {},
   "outputs": [
    {
     "name": "stdout",
     "output_type": "stream",
     "text": [
      "{'answered': True, 'business_phone_number': '+19372402680', 'customer_city': 'Cincinnati', 'customer_country': 'US', 'customer_name': 'SEVIL SHAKHMANO', 'customer_phone_number': '+15134416767', 'customer_state': 'OH', 'direction': 'inbound', 'duration': None, 'id': 'CALa52f4e8d7a2b418fbfbd22b82aa9098f', 'recording': None, 'recording_duration': None, 'recording_player': None, 'start_time': '2023-04-12T17:47:23.812-04:00', 'tracking_phone_number': '+19379542940', 'voicemail': False}\n"
     ]
    }
   ],
   "source": [
    "# view the first call as a dict\n",
    "print(calls[0].as_dict)"
   ]
  },
  {
   "cell_type": "code",
   "execution_count": null,
   "metadata": {},
   "outputs": [],
   "source": []
  }
 ],
 "metadata": {
  "kernelspec": {
   "display_name": "Python 3",
   "language": "python",
   "name": "python3"
  },
  "language_info": {
   "codemirror_mode": {
    "name": "ipython",
    "version": 3
   },
   "file_extension": ".py",
   "mimetype": "text/x-python",
   "name": "python",
   "nbconvert_exporter": "python",
   "pygments_lexer": "ipython3",
   "version": "3.11.2"
  },
  "orig_nbformat": 4
 },
 "nbformat": 4,
 "nbformat_minor": 2
}

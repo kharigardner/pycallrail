{
 "cells": [
  {
   "cell_type": "code",
   "execution_count": 8,
   "metadata": {},
   "outputs": [],
   "source": [
    "from pycallrail.callrail import CallRail\n",
    "from pycallrail.config import api_key"
   ]
  },
  {
   "cell_type": "code",
   "execution_count": 9,
   "metadata": {},
   "outputs": [],
   "source": [
    "crl = CallRail(api_key)"
   ]
  },
  {
   "cell_type": "code",
   "execution_count": 10,
   "metadata": {},
   "outputs": [
    {
     "name": "stdout",
     "output_type": "stream",
     "text": [
      "https://api.callrail.com/v3/a\n",
      "Got a single account: Fresh Coat Painters\n"
     ]
    }
   ],
   "source": [
    "accounts = crl.list_accounts() \n",
    "\n",
    "# check if we got a list or a single account\n",
    "\n",
    "if isinstance(accounts, list):\n",
    "    print(f\"Got {len(accounts)} accounts\")\n",
    "\n",
    "    for account in accounts:\n",
    "        print(f\"Account name: {account.name}\")\n",
    "\n",
    "\n",
    "else:\n",
    "    print(f\"Got a single account: {accounts.name}\")"
   ]
  }
 ],
 "metadata": {
  "kernelspec": {
   "display_name": "Python 3",
   "language": "python",
   "name": "python3"
  },
  "language_info": {
   "codemirror_mode": {
    "name": "ipython",
    "version": 3
   },
   "file_extension": ".py",
   "mimetype": "text/x-python",
   "name": "python",
   "nbconvert_exporter": "python",
   "pygments_lexer": "ipython3",
   "version": "3.11.2"
  },
  "orig_nbformat": 4
 },
 "nbformat": 4,
 "nbformat_minor": 2
}
